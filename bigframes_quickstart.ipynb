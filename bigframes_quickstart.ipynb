{
 "cells": [
  {
   "cell_type": "markdown",
   "id": "fde4f2a0-368e-4b13-b961-63c4046ddd6e",
   "metadata": {},
   "source": [
    "# Bigframes quickstart\n",
    "\n",
    "BigQuery DataFrames provides a Pythonic DataFrame and machine learning (ML) API powered by the BigQuery engine.\n",
    "\n",
    "- bigframes.pandas provides a pandas-compatible API for analytics.\n",
    "- bigframes.ml provides a scikit-learn-like API for ML.\n",
    "\n",
    "BigQuery DataFrames is an open-source package.\n",
    "    \n",
    "Read more at: [BigQuery DataFrames](https://cloud.google.com/python/docs/reference/bigframes/latest)"
   ]
  },
  {
   "cell_type": "code",
   "execution_count": null,
   "id": "d1fdfecd-0ebd-4ecb-afd3-23536655df22",
   "metadata": {},
   "outputs": [],
   "source": [
    "import bigframes.pandas as bpd"
   ]
  },
  {
   "cell_type": "code",
   "execution_count": null,
   "id": "f9ac3f68-21dd-47e7-b44d-dd0be89b54e4",
   "metadata": {},
   "outputs": [],
   "source": [
    "# Settings based on your plugin configurations. You can change these settings below.\n",
    "PROJECT_ID = 'dataproc-jupyter-extension-dev' \n",
    "REGION = 'US'\n",
    "\n",
    "bpd.options.bigquery.project = PROJECT_ID\n",
    "bpd.options.bigquery.location = REGION"
   ]
  },
  {
   "cell_type": "markdown",
   "id": "2c8557fe-669c-4b42-8f51-235ee14a1326",
   "metadata": {},
   "source": [
    "#### Reading datasets from different sources"
   ]
  },
  {
   "cell_type": "code",
   "execution_count": null,
   "id": "44f8abbb-6630-45d3-b9cc-5bee863102e1",
   "metadata": {},
   "outputs": [],
   "source": [
    "# Load data from BigQuery\n",
    "query_or_table = 'bigquery-public-data.faa.us_airports'\n",
    "bq_df = bpd.read_gbq(query_or_table)\n",
    "bq_df.head(20)"
   ]
  },
  {
   "cell_type": "code",
   "execution_count": null,
   "id": "d3324893-944c-4d79-817a-327fff6e787d",
   "metadata": {},
   "outputs": [],
   "source": [
    "# Load data from GCS\n",
    "filepath = 'gs://cloud-samples-data/bigquery/us-states/us-states.csv'\n",
    "gcs_df = bpd.read_csv(filepath)\n",
    "gcs_df.head()"
   ]
  },
  {
   "cell_type": "code",
   "execution_count": null,
   "id": "de60dabb-ba38-42c3-8331-27477430f455",
   "metadata": {},
   "outputs": [],
   "source": [
    "# Loading from local file\n",
    "filepath = 'Change this to the local file path'\n",
    "local_df = bpd.read_csv(filepath)\n",
    "local_df.head()"
   ]
  }
 ],
 "metadata": {
  "kernelspec": {
   "display_name": "Python 3 (ipykernel) (Local)",
   "language": "python",
   "name": "python3"
  },
  "language_info": {
   "codemirror_mode": {
    "name": "ipython",
    "version": 3
   },
   "file_extension": ".py",
   "mimetype": "text/x-python",
   "name": "python",
   "nbconvert_exporter": "python",
   "pygments_lexer": "ipython3",
   "version": "3.11.4"
  }
 },
 "nbformat": 4,
 "nbformat_minor": 5
}
