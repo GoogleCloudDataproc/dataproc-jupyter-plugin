{
 "cells": [
  {
   "cell_type": "code",
   "execution_count": null,
   "id": "2fd71896-b55b-4f9e-83d8-8b226afd3f10",
   "metadata": {},
   "outputs": [],
   "source": []
  }
 ],
 "metadata": {
  "kernelspec": {
   "display_name": "PySpark on cluster-8782",
   "language": "python",
   "name": "9f3a30e0555c325a59ebd5a6-pyspark"
  },
  "language_info": {
   "codemirror_mode": {
    "name": "ipython",
    "version": 3
   },
   "file_extension": ".py",
   "mimetype": "text/x-python",
   "name": "python",
   "nbconvert_exporter": "python",
   "pygments_lexer": "ipython3",
   "version": "3.10.8"
  }
 },
 "nbformat": 4,
 "nbformat_minor": 5
}
