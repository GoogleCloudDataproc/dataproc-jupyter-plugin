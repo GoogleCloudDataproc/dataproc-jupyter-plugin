{
 "cells": [
  {
   "cell_type": "code",
   "execution_count": 1,
   "id": "d56b3bad-4acd-477a-bfd2-bb7256d1b626",
   "metadata": {},
   "outputs": [
    {
     "name": "stdout",
     "output_type": "stream",
     "text": [
      "hello world\n"
     ]
    }
   ],
   "source": [
    "print(\"hello world22\");"
   ]
  },
  {
   "cell_type": "code",
   "execution_count": null,
   "id": "dd5f430e-edb7-40a5-96b4-d2a6c87ddae7",
   "metadata": {},
   "outputs": [],
   "source": []
  }
 ],
 "metadata": {
  "kernelspec": {
   "display_name": "Python 3 (ipykernel) (Local)",
   "language": "python",
   "name": "python3"
  },
  "language_info": {
   "codemirror_mode": {
    "name": "ipython",
    "version": 3
   },
   "file_extension": ".py",
   "mimetype": "text/x-python",
   "name": "python",
   "nbconvert_exporter": "python",
   "pygments_lexer": "ipython3",
   "version": "3.10.11"
  }
 },
 "nbformat": 4,
 "nbformat_minor": 5
}
